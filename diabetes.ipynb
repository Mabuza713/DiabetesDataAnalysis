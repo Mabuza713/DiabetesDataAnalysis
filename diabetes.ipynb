{
 "cells": [
  {
   "cell_type": "code",
   "execution_count": 18,
   "metadata": {},
   "outputs": [],
   "source": [
    "import pypyodbc as odbc\n",
    "import pandas as pd\n",
    "import numpy as np\n",
    "import seaborn as sns\n",
    "from sklearn.linear_model import LinearRegression\n",
    "from sklearn.model_selection import train_test_split\n",
    "from sklearn.metrics import mean_squared_error, mean_absolute_error\n",
    "from sklearn.compose import ColumnTransformer\n",
    "from sklearn.preprocessing import OneHotEncoder"
   ]
  },
  {
   "cell_type": "code",
   "execution_count": 5,
   "metadata": {},
   "outputs": [],
   "source": [
    "DRIVER_NAME = \"SQL Server\"\n",
    "SERVER_NAME = \"DESKTOP-PJBN9BQ\\\\SQLEXPRESS\"\n",
    "DATABASE_NAME = \"Diabetes\"\n",
    "\n",
    "CONNECTION_STRING = f\"\"\"\n",
    "    DRIVER={{{DRIVER_NAME}}};\n",
    "    SERVER={SERVER_NAME};\n",
    "    DATABASE={DATABASE_NAME};\n",
    "    Trust_Connection=yes;\n",
    "\"\"\"\n",
    "\n",
    "Conn = odbc.connect(CONNECTION_STRING)"
   ]
  },
  {
   "cell_type": "code",
   "execution_count": 8,
   "metadata": {},
   "outputs": [
    {
     "name": "stdout",
     "output_type": "stream",
     "text": [
      "(35346, 35346)\n"
     ]
    },
    {
     "data": {
      "image/png": "[encoded data removed]",
      "text/plain": [
       "<Figure size 640x480 with 1 Axes>"
      ]
     },
     "metadata": {},
     "output_type": "display_data"
    }
   ],
   "source": [
    "cursor = Conn.cursor()\n",
    "tables_list = list(cursor.tables())\n",
    "\n",
    "table_name = \"diabetes_binary_split_health_indicators_BRFSS2015\"\n",
    "query = \"SELECT * FROM {}\".format(table_name) # SQL qury, filter here not using pandas\n",
    "\n",
    "cursor.execute(query)\n",
    "\n",
    "table = cursor.fetchall()\n",
    "columns = [\"Diabetes_binary\",\"HighBP\",\"HighChol\",\"CholCheck\",\"BMI\",\"Smoker\",\"Stroke\",\"HeartDiseaseorAttack\",\"PhysActivity\",\"Fruits\",\"Veggies\",\"HvyAlcoholConsump\",\"AnyHealthcare\",\"NoDocbcCost\",\"GenHlth\",\"MentHlth\",\"PhysHlth\",\"DiffWalk\",\"Sex\",\"Age\",\"Education\",\"Income\"]\n",
    "\n",
    "table_dataframe = pd.DataFrame(table, columns= columns)\n",
    "\n",
    "for column in columns:\n",
    "    table_dataframe[str(column)] = table_dataframe[str(column)].astype(float)\n",
    "\n",
    "#sns.barplot(x = \"Diabetes_binary\",y = \"BMI\", data = table_dataframe)\n",
    "\n",
    "# checking if set is balanced\n",
    "print((len(table_dataframe[table_dataframe.Diabetes_binary == 1]),len(table_dataframe[table_dataframe.Diabetes_binary == 0]) ))"
   ]
  },
  {
   "cell_type": "code",
   "execution_count": 27,
   "metadata": {},
   "outputs": [
    {
     "name": "stdout",
     "output_type": "stream",
     "text": [
      "[ 0.15767648  0.10469426  0.15957115  0.01193016  0.00152392  0.03135367\n",
      "  0.04889454 -0.00768154 -0.00990635 -0.00665023 -0.12375834  0.00061461\n",
      " -0.00112011  0.10480215 -0.00078459 -0.00153448  0.02664256  0.04821468\n",
      "  0.0255554  -0.00624309 -0.01049518]\n"
     ]
    }
   ],
   "source": [
    "columns_without_first = [\"HighBP\",\"HighChol\",\"CholCheck\",\"BMI\",\"Smoker\",\"Stroke\",\"HeartDiseaseorAttack\",\"PhysActivity\",\"Fruits\",\"Veggies\",\"HvyAlcoholConsump\",\"AnyHealthcare\",\"NoDocbcCost\",\"GenHlth\",\"MentHlth\",\"PhysHlth\",\"DiffWalk\",\"Sex\",\"Age\",\"Education\",\"Income\"]\n",
    "Y = table_dataframe[\"Diabetes_binary\"].values\n",
    "X = table_dataframe[columns_without_first].values\n",
    "\n",
    "column_transformator = ColumnTransformer(transformers = [(\"encoder\", OneHotEncoder(), [])], remainder= \"passthrough\")\n",
    "X = np.array(column_transformator.fit_transform(X))\n",
    "\n",
    "X_train, X_test, Y_train, Y_test = train_test_split(X, Y, test_size = 0.3, random_state = 101)\n",
    "\n",
    "\n",
    "model = LinearRegression()\n",
    "model.fit(X_train, Y_train)\n",
    "\n",
    "Y_pred = model.predict(X_test)\n",
    "print(model.coef_)"
   ]
  }
 ],
 "metadata": {
  "kernelspec": {
   "display_name": "Python 3",
   "language": "python",
   "name": "python3"
  },
  "language_info": {
   "codemirror_mode": {
    "name": "ipython",
    "version": 3
   },
   "file_extension": ".py",
   "mimetype": "text/x-python",
   "name": "python",
   "nbconvert_exporter": "python",
   "pygments_lexer": "ipython3",
   "version": "3.12.4"
  }
 },
 "nbformat": 4,
 "nbformat_minor": 2
}
